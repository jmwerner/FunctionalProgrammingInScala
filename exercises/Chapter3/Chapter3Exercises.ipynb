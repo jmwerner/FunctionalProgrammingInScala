{
 "cells": [
  {
   "cell_type": "markdown",
   "metadata": {},
   "source": [
    "# Chapter 3 Exercises"
   ]
  },
  {
   "cell_type": "markdown",
   "metadata": {},
   "source": [
    "Import of book's data structures to be used. Renamed the new list type to NewList becuse scala is weird."
   ]
  },
  {
   "cell_type": "code",
   "execution_count": 1,
   "metadata": {
    "collapsed": false,
    "scrolled": false
   },
   "outputs": [
    {
     "data": {
      "text/plain": [
       "defined \u001b[32mtrait \u001b[36mNewList\u001b[0m\n",
       "defined \u001b[32mobject \u001b[36mNil\u001b[0m\n",
       "defined \u001b[32mclass \u001b[36mCons\u001b[0m\n",
       "defined \u001b[32mobject \u001b[36mNewList\u001b[0m"
      ]
     },
     "metadata": {},
     "output_type": "display_data"
    }
   ],
   "source": [
    "sealed trait NewList[+A] // `NewList` data type, parameterized on a type, `A`\n",
    "case object Nil extends NewList[Nothing] // A `NewList` data constructor representing the empty list\n",
    "\n",
    "case class Cons[+A](head: A, tail: NewList[A]) extends NewList[A]\n",
    "\n",
    "object NewList { // `NewList` companion object. Contains functions for creating and working with lists.\n",
    "    def sum(ints: NewList[Int]): Int = ints match { // A function that uses pattern matching to add up a list of integers\n",
    "        case Nil => 0 // The sum of the empty list is 0.\n",
    "        case Cons(x,xs) => x + sum(xs) // The sum of a list starting with `x` is `x` plus the sum of the rest of the list.\n",
    "    }\n",
    "\n",
    "    def product(ds: NewList[Double]): Double = ds match {\n",
    "        case Nil => 1.0\n",
    "        case Cons(0.0, _) => 0.0\n",
    "        case Cons(x,xs) => x * product(xs)\n",
    "    }\n",
    "\n",
    "    def apply[A](as: A*): NewList[A] = // Variadic function syntax\n",
    "        if (as.isEmpty) Nil\n",
    "        else Cons(as.head, apply(as.tail: _*))\n",
    "\n",
    "    def append[A](a1: NewList[A], a2: NewList[A]): NewList[A] =\n",
    "        a1 match {\n",
    "            case Nil => a2\n",
    "            case Cons(h,t) => Cons(h, append(t, a2))\n",
    "        }\n",
    "\n",
    "    def foldRight[A,B](as: NewList[A], z: B)(f: (A, B) => B): B = // Utility functions\n",
    "        as match {\n",
    "            case Nil => z\n",
    "            case Cons(x, xs) => f(x, foldRight(xs, z)(f))\n",
    "        }\n",
    "\n",
    "    def sum2(ns: NewList[Int]) =\n",
    "        foldRight(ns, 0)((x,y) => x + y)\n",
    "\n",
    "    def product2(ns: NewList[Double]) =\n",
    "        foldRight(ns, 1.0)(_ * _) // `_ * _` is more concise notation for `(x,y) => x * y`; see sidebar\n",
    "\n",
    "    // Exercise 3.2\n",
    "    def tail[A](x: NewList[A]): NewList[A] = {\n",
    "        x match {\n",
    "            case Nil => sys.error(\"Empty NewList, no tail exists in an empty NewList\")\n",
    "            case Cons(_, t) => t\n",
    "        }\n",
    "    }\n",
    "    \n",
    "    // Exercise 3.3\n",
    "    def setHead[A](l: NewList[A], h: A): NewList[A] = {\n",
    "        l match {\n",
    "            case Nil => sys.error(\"Empty NewList, no first element to replace\")\n",
    "            case Cons(_, t) => Cons(h, t)\n",
    "        }\n",
    "    }\n",
    "\n",
    "    // Exercise 3.4\n",
    "    def drop[A](l: NewList[A], n: Int): NewList[A] = {\n",
    "        if(n <= 0) {\n",
    "            l\n",
    "        } else {\n",
    "            l match {\n",
    "                case Nil => sys.error(\"Empty NewList, no elements to drop\")\n",
    "                case Cons(_, t) => NewList.drop(t, n - 1)\n",
    "            }\n",
    "        }\n",
    "    }\n",
    "\n",
    "    // Exercise 3.5\n",
    "    def dropWhile[A](l: NewList[A], f: A => Boolean): NewList[A] = {\n",
    "        l match {\n",
    "            case Nil => sys.error(\"Empty NewList, no elements to drop\")\n",
    "            case Cons(h, t) if(f(h)) => { \n",
    "                NewList.dropWhile(t, f)\n",
    "            }\n",
    "            case _ => l\n",
    "        }\n",
    "    }\n",
    "\n",
    "    // Exercise 3.6\n",
    "    def init[A](l: NewList[A]): NewList[A] = {\n",
    "        l match {\n",
    "            case Nil => sys.error(\"Empty NewList, no elements to drop\")\n",
    "            case Cons(_, Nil) => Nil\n",
    "            case Cons(h, t) => Cons(h, init(t))\n",
    "        }\n",
    "    }\n",
    "\n",
    "    // Exercise 3.9\n",
    "    def length[A](l: NewList[A]): Int = {\n",
    "        NewList.foldRight(l, 0)((_, count) => count + 1)\n",
    "    }\n",
    "\n",
    "    // Exercise 3.10\n",
    "    @annotation.tailrec\n",
    "    def foldLeft[A,B](l: NewList[A], z: B)(f: (B, A) => B): B = {\n",
    "        l match {\n",
    "            case Nil => z\n",
    "            case Cons(h, t) => NewList.foldLeft(t, f(z, h))(f)\n",
    "        }\n",
    "    }\n",
    "    \n",
    "    // Exercise 3.11\n",
    "    def sum3(ns: NewList[Int]) = {\n",
    "        foldLeft(ns, 0)((x,y) => x + y)\n",
    "    }\n",
    "    def product3(ns: NewList[Double]) = {\n",
    "        foldLeft(ns, 1.0)((x,y) => x * y)\n",
    "    }\n",
    "    def length2[A](l: NewList[A]): Int = {\n",
    "        foldLeft(l, 0)((count, _) => count + 1)\n",
    "    }\n",
    "    \n",
    "    // Exercise 3.12\n",
    "    def reverseFirstTry[A](l: NewList[A]): NewList[A] = {\n",
    "        l match {\n",
    "            case Nil => Nil\n",
    "            case Cons(h, t) => append(reverse(t), NewList(h))\n",
    "        }\n",
    "    }\n",
    "    \n",
    "    // Exercise 3.12 continued\n",
    "    def reverse[A](l: NewList[A]): NewList[A] = {\n",
    "        foldLeft(l, NewList[A]())((l, h) => Cons(h,l))\n",
    "    }\n",
    "    \n",
    "    // Exercise 3.13\n",
    "    def foldRightViaFoldLeft[A,B](l: NewList[A], z: B)(f: (A,B) => B): B = {\n",
    "        foldLeft(reverse(l), z)((b,a) => f(a,b))\n",
    "    }\n",
    "    \n",
    "    // Exercise 3.14\n",
    "    def appendViaFoldRight[A](l: NewList[A], r: NewList[A]): NewList[A] = {\n",
    "        foldRight(l, r)(Cons(_,_))\n",
    "    }\n",
    "    \n",
    "    // Exercise 3.15\n",
    "    def concatenate[A](l: NewList[NewList[A]]): NewList[A] = {\n",
    "        foldRight(l, Nil:NewList[A])(append)\n",
    "    }\n",
    "    \n",
    "    // Exercise 3.16\n",
    "    def addOneToList(l: NewList[Int]): NewList[Int] = {\n",
    "        foldRight(l, Nil:NewList[Int])((h, t) => Cons(h + 1, t))\n",
    "    }\n",
    "    \n",
    "    // Exercise 3.17\n",
    "    def convertDoublesToStrings(l: NewList[Double]): NewList[String] = {\n",
    "        foldRight(l, Nil:NewList[String])((h, t) => Cons(h.toString, t))\n",
    "    }\n",
    "    \n",
    "    // Exercise 3.18\n",
    "    def map[A,B](l: NewList[A])(f: A => B): NewList[B] = {\n",
    "        foldRight(l, Nil:NewList[B])((h, t) => Cons(f(h), t))\n",
    "    }\n",
    "    \n",
    "    // Exercise 3.19\n",
    "    def filter[A](as: NewList[A])(f: A => Boolean): NewList[A] = {\n",
    "        foldRight(as, Nil:NewList[A])((h, t) => if(f(h)) {\n",
    "            Cons(h, t)\n",
    "        } else {\n",
    "            t\n",
    "        })\n",
    "    }\n",
    "    \n",
    "    // Exercise 3.20\n",
    "    def flatMap[A, B](as: NewList[A])(f: A => NewList[B]): NewList[B] = {\n",
    "        concatenate(map(as)(f))\n",
    "    }\n",
    "    \n",
    "    // Exercise 3.21\n",
    "    def filterByFlatMap[A](l: NewList[A])(f: A => Boolean): NewList[A] = {\n",
    "        flatMap(l)(x => if(f(x)) {\n",
    "            NewList(x)\n",
    "        } else {\n",
    "            Nil\n",
    "        })\n",
    "    }\n",
    "    \n",
    "    // Exercise 3.22\n",
    "    def addNewLists(a: NewList[Int], b: NewList[Int]): NewList[Int] = {\n",
    "        (a,b) match {\n",
    "            case (Nil, _) => Nil\n",
    "            case (_, Nil) => Nil\n",
    "            case (Cons(a1, b1), Cons(a2, b2)) => Cons(a1 + a2, addNewLists(b1, b2))\n",
    "        }\n",
    "    }\n",
    "    \n",
    "    // Exercise 3.23\n",
    "    def zipWith[A,B,C](a: NewList[A], b: NewList[B])(f: (A,B) => C): NewList[C] = {\n",
    "        (a,b) match {\n",
    "            case (Nil, _) => Nil\n",
    "            case (_, Nil) => Nil\n",
    "            case (Cons(a1, b1), Cons(a2, b2)) => Cons(f(a1, a2), zipWith(b1, b2)(f))\n",
    "        }\n",
    "    }\n",
    "    \n",
    "    // Exercise 3.24\n",
    "    @annotation.tailrec\n",
    "    def startsWith[A](l: NewList[A], prefix: NewList[A]): Boolean = {\n",
    "        (l, prefix) match {\n",
    "            case (_, Nil) => true\n",
    "            case (Cons(h, t), Cons(h2, t2)) if(h == h2) => startsWith(t, t2)\n",
    "            case _ => false\n",
    "        }\n",
    "    }\n",
    "    \n",
    "    @annotation.tailrec\n",
    "    def hasSubsequence[A](long: NewList[A], sub: NewList[A]): Boolean = {\n",
    "        long match {\n",
    "            case Nil => sub == Nil\n",
    "            case _ if startsWith(long, sub) => true\n",
    "            case Cons(_, t) => hasSubsequence(t, sub)\n",
    "        }\n",
    "    }\n",
    "}\n"
   ]
  },
  {
   "cell_type": "markdown",
   "metadata": {},
   "source": [
    "#### Exercise 3.1"
   ]
  },
  {
   "cell_type": "code",
   "execution_count": 2,
   "metadata": {
    "collapsed": false
   },
   "outputs": [
    {
     "data": {
      "text/plain": [
       "\u001b[36mx\u001b[0m: \u001b[32mInt\u001b[0m = \u001b[32m3\u001b[0m"
      ]
     },
     "metadata": {},
     "output_type": "display_data"
    }
   ],
   "source": [
    "val x = NewList(1,2,3,4,5) match {\n",
    "    case Cons(x, Cons(2, Cons(4, _))) => x\n",
    "    case Nil => 42\n",
    "    case Cons(x, Cons(y, Cons(3, Cons(4, _)))) => x + y\n",
    "    case Cons(h, t) => h + NewList.sum(t)\n",
    "    case _ => 101\n",
    "}"
   ]
  },
  {
   "cell_type": "markdown",
   "metadata": {},
   "source": [
    "This returns 3 because it hits the third case where we have (x,y,3,4,_) and returns x + y (1 + 2) here. The other cases don't match a NewList of 1 to 5"
   ]
  },
  {
   "cell_type": "markdown",
   "metadata": {},
   "source": [
    "#### Exercise 3.2"
   ]
  },
  {
   "cell_type": "code",
   "execution_count": 3,
   "metadata": {
    "collapsed": false
   },
   "outputs": [
    {
     "data": {
      "text/plain": [
       "\u001b[36ma\u001b[0m: \u001b[32mNewList\u001b[0m[\u001b[32mInt\u001b[0m] = Cons(1,Cons(2,Cons(3,Nil)))\n",
       "\u001b[36mres2_1\u001b[0m: \u001b[32mNewList\u001b[0m[\u001b[32mInt\u001b[0m] = Cons(2,Cons(3,Nil))"
      ]
     },
     "metadata": {},
     "output_type": "display_data"
    }
   ],
   "source": [
    "val a = NewList(1,2,3)\n",
    "NewList.tail(a)"
   ]
  },
  {
   "cell_type": "code",
   "execution_count": 4,
   "metadata": {
    "collapsed": false
   },
   "outputs": [
    {
     "data": {
      "text/plain": [
       "\u001b[36ma\u001b[0m: \u001b[32mNewList\u001b[0m[\u001b[32mInt\u001b[0m] = Cons(1,Nil)\n",
       "\u001b[36mres3_1\u001b[0m: \u001b[32mNewList\u001b[0m[\u001b[32mInt\u001b[0m] = Nil"
      ]
     },
     "metadata": {},
     "output_type": "display_data"
    }
   ],
   "source": [
    "val a = NewList(1)\n",
    "NewList.tail(a)"
   ]
  },
  {
   "cell_type": "code",
   "execution_count": 5,
   "metadata": {
    "collapsed": false
   },
   "outputs": [
    {
     "ename": "",
     "evalue": "",
     "output_type": "error",
     "traceback": [
      "java.lang.RuntimeException: Empty NewList, no tail exists in an empty NewList (Empty NewList, no tail exists in an empty NewList)",
      "  scala.sys.package$.error(package.scala:27)",
      "  cmd0$$user$NewList$.tail(Main.scala:60)",
      "  cmd4$$user$$anonfun$2.apply(Main.scala:30)",
      "  cmd4$$user$$anonfun$2.apply(Main.scala:29)"
     ]
    }
   ],
   "source": [
    "val a = NewList()\n",
    "NewList.tail(a)"
   ]
  },
  {
   "cell_type": "markdown",
   "metadata": {},
   "source": [
    "#### Exercise 3.3"
   ]
  },
  {
   "cell_type": "code",
   "execution_count": 6,
   "metadata": {
    "collapsed": false
   },
   "outputs": [
    {
     "data": {
      "text/plain": [
       "\u001b[36ma\u001b[0m: \u001b[32mNewList\u001b[0m[\u001b[32mInt\u001b[0m] = Cons(1,Cons(2,Cons(3,Nil)))\n",
       "\u001b[36mres5_1\u001b[0m: \u001b[32mNewList\u001b[0m[\u001b[32mInt\u001b[0m] = Cons(10,Cons(2,Cons(3,Nil)))"
      ]
     },
     "metadata": {},
     "output_type": "display_data"
    }
   ],
   "source": [
    "val a = NewList(1,2,3)\n",
    "NewList.setHead(a, 10)"
   ]
  },
  {
   "cell_type": "code",
   "execution_count": 7,
   "metadata": {
    "collapsed": false
   },
   "outputs": [
    {
     "data": {
      "text/plain": [
       "\u001b[36ma\u001b[0m: \u001b[32mNewList\u001b[0m[\u001b[32mInt\u001b[0m] = Cons(1,Nil)\n",
       "\u001b[36mres6_1\u001b[0m: \u001b[32mNewList\u001b[0m[\u001b[32mInt\u001b[0m] = Cons(10,Nil)"
      ]
     },
     "metadata": {},
     "output_type": "display_data"
    }
   ],
   "source": [
    "val a = NewList(1)\n",
    "NewList.setHead(a, 10)"
   ]
  },
  {
   "cell_type": "code",
   "execution_count": 8,
   "metadata": {
    "collapsed": false
   },
   "outputs": [
    {
     "ename": "",
     "evalue": "",
     "output_type": "error",
     "traceback": [
      "java.lang.RuntimeException: Empty NewList, no first element to replace (Empty NewList, no first element to replace)",
      "  scala.sys.package$.error(package.scala:27)",
      "  cmd0$$user$NewList$.setHead(Main.scala:68)",
      "  cmd7$$user$$anonfun$2.apply(Main.scala:30)",
      "  cmd7$$user$$anonfun$2.apply(Main.scala:29)"
     ]
    }
   ],
   "source": [
    "val a = NewList()\n",
    "NewList.setHead(a, 10)"
   ]
  },
  {
   "cell_type": "markdown",
   "metadata": {},
   "source": [
    "#### Exercise 3.4"
   ]
  },
  {
   "cell_type": "code",
   "execution_count": 9,
   "metadata": {
    "collapsed": false
   },
   "outputs": [
    {
     "data": {
      "text/plain": [
       "\u001b[36ma\u001b[0m: \u001b[32mNewList\u001b[0m[\u001b[32mInt\u001b[0m] = Cons(1,Cons(2,Cons(3,Nil)))\n",
       "\u001b[36mres8_1\u001b[0m: \u001b[32mNewList\u001b[0m[\u001b[32mInt\u001b[0m] = Cons(2,Cons(3,Nil))\n",
       "\u001b[36mres8_2\u001b[0m: \u001b[32mNewList\u001b[0m[\u001b[32mInt\u001b[0m] = Cons(1,Cons(2,Cons(3,Nil)))"
      ]
     },
     "metadata": {},
     "output_type": "display_data"
    }
   ],
   "source": [
    "val a = NewList(1,2,3)\n",
    "NewList.drop(a, 1)\n",
    "NewList.drop(a, 0)"
   ]
  },
  {
   "cell_type": "code",
   "execution_count": 10,
   "metadata": {
    "collapsed": false
   },
   "outputs": [
    {
     "ename": "",
     "evalue": "",
     "output_type": "error",
     "traceback": [
      "java.lang.RuntimeException: Empty NewList, no elements to drop (Empty NewList, no elements to drop)",
      "  scala.sys.package$.error(package.scala:27)",
      "  cmd0$$user$NewList$.drop(Main.scala:79)",
      "  cmd9$$user$$anonfun$1.apply(Main.scala:25)",
      "  cmd9$$user$$anonfun$1.apply(Main.scala:24)"
     ]
    }
   ],
   "source": [
    "NewList.drop(NewList(), 1)"
   ]
  },
  {
   "cell_type": "code",
   "execution_count": 11,
   "metadata": {
    "collapsed": false
   },
   "outputs": [
    {
     "data": {
      "text/plain": [
       "\u001b[36mres10\u001b[0m: \u001b[32mNewList\u001b[0m[\u001b[32mInt\u001b[0m] = Cons(7,Nil)"
      ]
     },
     "metadata": {},
     "output_type": "display_data"
    }
   ],
   "source": [
    "NewList.drop(NewList(1,2,3,4,5,6,7), 6)"
   ]
  },
  {
   "cell_type": "markdown",
   "metadata": {},
   "source": [
    "#### Exercise 3.5"
   ]
  },
  {
   "cell_type": "code",
   "execution_count": 12,
   "metadata": {
    "collapsed": false
   },
   "outputs": [
    {
     "data": {
      "text/plain": [
       "defined \u001b[32mfunction \u001b[36mlogicalFunction\u001b[0m"
      ]
     },
     "metadata": {},
     "output_type": "display_data"
    }
   ],
   "source": [
    "// Assume we're always passing it an integer \n",
    "def logicalFunction(a: Int): Boolean = {\n",
    "    if(a > 5) { \n",
    "        true\n",
    "    } else {\n",
    "        false\n",
    "    }\n",
    "}"
   ]
  },
  {
   "cell_type": "code",
   "execution_count": 13,
   "metadata": {
    "collapsed": false
   },
   "outputs": [
    {
     "data": {
      "text/plain": [
       "\u001b[36mres12\u001b[0m: \u001b[32mNewList\u001b[0m[\u001b[32mInt\u001b[0m] = Cons(5,Cons(4,Cons(3,Cons(2,Cons(1,Nil)))))"
      ]
     },
     "metadata": {},
     "output_type": "display_data"
    }
   ],
   "source": [
    "NewList.dropWhile(NewList(8,7,6,5,4,3,2,1), logicalFunction)"
   ]
  },
  {
   "cell_type": "code",
   "execution_count": 14,
   "metadata": {
    "collapsed": false
   },
   "outputs": [
    {
     "ename": "",
     "evalue": "",
     "output_type": "error",
     "traceback": [
      "java.lang.RuntimeException: Empty NewList, no elements to drop (Empty NewList, no elements to drop)",
      "  scala.sys.package$.error(package.scala:27)",
      "  cmd0$$user$NewList$.dropWhile(Main.scala:88)",
      "  cmd13$$user$$anonfun$1.apply(Main.scala:27)",
      "  cmd13$$user$$anonfun$1.apply(Main.scala:26)"
     ]
    }
   ],
   "source": [
    "NewList.dropWhile(NewList(), logicalFunction)"
   ]
  },
  {
   "cell_type": "code",
   "execution_count": 15,
   "metadata": {
    "collapsed": false
   },
   "outputs": [
    {
     "data": {
      "text/plain": [
       "\u001b[36mres14\u001b[0m: \u001b[32mNewList\u001b[0m[\u001b[32mInt\u001b[0m] = Cons(1,Cons(2,Cons(3,Cons(4,Nil))))"
      ]
     },
     "metadata": {},
     "output_type": "display_data"
    }
   ],
   "source": [
    "NewList.dropWhile(NewList(1,2,3,4), logicalFunction)"
   ]
  },
  {
   "cell_type": "code",
   "execution_count": 16,
   "metadata": {
    "collapsed": false
   },
   "outputs": [
    {
     "data": {
      "text/plain": [
       "\u001b[36mres15\u001b[0m: \u001b[32mNewList\u001b[0m[\u001b[32mInt\u001b[0m] = Cons(1,Cons(2,Cons(3,Cons(4,Cons(5,Cons(6,Cons(7,Cons(8,Cons(9,Nil)))))))))"
      ]
     },
     "metadata": {},
     "output_type": "display_data"
    }
   ],
   "source": [
    "NewList.dropWhile(NewList(1,2,3,4,5,6,7,8,9), logicalFunction)"
   ]
  },
  {
   "cell_type": "markdown",
   "metadata": {},
   "source": [
    "#### Exercise 3.6"
   ]
  },
  {
   "cell_type": "code",
   "execution_count": 17,
   "metadata": {
    "collapsed": false
   },
   "outputs": [
    {
     "data": {
      "text/plain": [
       "\u001b[36mres16_0\u001b[0m: \u001b[32mNewList\u001b[0m[\u001b[32mInt\u001b[0m] = Cons(1,Cons(2,Cons(3,Nil)))\n",
       "\u001b[36mres16_1\u001b[0m: \u001b[32mNewList\u001b[0m[\u001b[32mInt\u001b[0m] = Nil"
      ]
     },
     "metadata": {},
     "output_type": "display_data"
    }
   ],
   "source": [
    "NewList.init(NewList(1,2,3,4))\n",
    "NewList.init(NewList(1))"
   ]
  },
  {
   "cell_type": "code",
   "execution_count": 18,
   "metadata": {
    "collapsed": false
   },
   "outputs": [
    {
     "ename": "",
     "evalue": "",
     "output_type": "error",
     "traceback": [
      "java.lang.RuntimeException: Empty NewList, no elements to drop (Empty NewList, no elements to drop)",
      "  scala.sys.package$.error(package.scala:27)",
      "  cmd0$$user$NewList$.init(Main.scala:99)",
      "  cmd17$$user$$anonfun$1.apply(Main.scala:25)",
      "  cmd17$$user$$anonfun$1.apply(Main.scala:24)"
     ]
    }
   ],
   "source": [
    "NewList.init(NewList())"
   ]
  },
  {
   "cell_type": "markdown",
   "metadata": {},
   "source": [
    "#### Exercise 3.7"
   ]
  },
  {
   "cell_type": "markdown",
   "metadata": {},
   "source": [
    "No, this does not seem possible. The answer key confirmed that by saying in fold right we evaluate the arguments first before ever calling f, so we traverse the entire list before even calling f for the \"first\" time. "
   ]
  },
  {
   "cell_type": "markdown",
   "metadata": {},
   "source": [
    "#### Exercise 3.8"
   ]
  },
  {
   "cell_type": "code",
   "execution_count": 19,
   "metadata": {
    "collapsed": false
   },
   "outputs": [
    {
     "data": {
      "text/plain": [
       "\u001b[36mres18\u001b[0m: \u001b[32mNewList\u001b[0m[\u001b[32mInt\u001b[0m] = Cons(1,Cons(2,Cons(3,Nil)))"
      ]
     },
     "metadata": {},
     "output_type": "display_data"
    }
   ],
   "source": [
    "NewList.foldRight(NewList(1,2,3), Nil:NewList[Int])(Cons(_,_))"
   ]
  },
  {
   "cell_type": "markdown",
   "metadata": {},
   "source": [
    "This folds right a NewList of integers onto a Nil NewList of integers with the Cons(\\_,\\_) which makes it behave basically as an identity function"
   ]
  },
  {
   "cell_type": "markdown",
   "metadata": {},
   "source": [
    "#### Exercise 3.9"
   ]
  },
  {
   "cell_type": "code",
   "execution_count": 20,
   "metadata": {
    "collapsed": false
   },
   "outputs": [
    {
     "data": {
      "text/plain": [
       "\u001b[36mres19_0\u001b[0m: \u001b[32mInt\u001b[0m = \u001b[32m5\u001b[0m\n",
       "\u001b[36mres19_1\u001b[0m: \u001b[32mInt\u001b[0m = \u001b[32m0\u001b[0m"
      ]
     },
     "metadata": {},
     "output_type": "display_data"
    }
   ],
   "source": [
    "NewList.length(NewList(1,2,3,4,5))\n",
    "NewList.length(NewList())"
   ]
  },
  {
   "cell_type": "markdown",
   "metadata": {},
   "source": [
    "#### Exercise 3.10"
   ]
  },
  {
   "cell_type": "code",
   "execution_count": 21,
   "metadata": {
    "collapsed": false
   },
   "outputs": [
    {
     "data": {
      "text/plain": [
       "\u001b[36mres20_0\u001b[0m: \u001b[32mInt\u001b[0m = \u001b[32m13\u001b[0m\n",
       "\u001b[36mres20_1\u001b[0m: \u001b[32mInt\u001b[0m = \u001b[32m27\u001b[0m"
      ]
     },
     "metadata": {},
     "output_type": "display_data"
    }
   ],
   "source": [
    "NewList.foldLeft(NewList(1,2), 10)((a, b) => a + b)\n",
    "NewList.foldLeft(NewList(1,2,2), 22)((a, b) => a + b)"
   ]
  },
  {
   "cell_type": "markdown",
   "metadata": {},
   "source": [
    "#### Exercise 3.11"
   ]
  },
  {
   "cell_type": "code",
   "execution_count": 22,
   "metadata": {
    "collapsed": false
   },
   "outputs": [
    {
     "data": {
      "text/plain": [
       "\u001b[36mres21_0\u001b[0m: \u001b[32mInt\u001b[0m = \u001b[32m6\u001b[0m\n",
       "\u001b[36mres21_1\u001b[0m: \u001b[32mDouble\u001b[0m = \u001b[32m6.0\u001b[0m\n",
       "\u001b[36mres21_2\u001b[0m: \u001b[32mInt\u001b[0m = \u001b[32m3\u001b[0m"
      ]
     },
     "metadata": {},
     "output_type": "display_data"
    }
   ],
   "source": [
    "NewList.sum3(NewList(1,2,3))\n",
    "NewList.product3(NewList(1,2,3))\n",
    "NewList.length2(NewList(1,2,3))"
   ]
  },
  {
   "cell_type": "markdown",
   "metadata": {},
   "source": [
    "#### Exercise 3.12"
   ]
  },
  {
   "cell_type": "code",
   "execution_count": 23,
   "metadata": {
    "collapsed": false
   },
   "outputs": [
    {
     "data": {
      "text/plain": [
       "\u001b[36mres22\u001b[0m: \u001b[32mNewList\u001b[0m[\u001b[32mInt\u001b[0m] = Cons(4,Cons(3,Cons(2,Cons(1,Nil))))"
      ]
     },
     "metadata": {},
     "output_type": "display_data"
    }
   ],
   "source": [
    "NewList.reverseFirstTry(NewList(1,2,3,4))"
   ]
  },
  {
   "cell_type": "markdown",
   "metadata": {},
   "source": [
    "My first (dirty) try of reverse works, which is cool :) \n",
    "\n",
    "And using foldLeft with a little help..."
   ]
  },
  {
   "cell_type": "code",
   "execution_count": 24,
   "metadata": {
    "collapsed": false
   },
   "outputs": [
    {
     "data": {
      "text/plain": [
       "\u001b[36mres23\u001b[0m: \u001b[32mNewList\u001b[0m[\u001b[32mInt\u001b[0m] = Cons(4,Cons(3,Cons(2,Cons(1,Nil))))"
      ]
     },
     "metadata": {},
     "output_type": "display_data"
    }
   ],
   "source": [
    "NewList.reverse(NewList(1,2,3,4))"
   ]
  },
  {
   "cell_type": "markdown",
   "metadata": {},
   "source": [
    "#### Exercise 3.13"
   ]
  },
  {
   "cell_type": "markdown",
   "metadata": {},
   "source": [
    "With some help from the answer key, here is one working implementation of foldRightViaFoldLeft and the reverse function written in the previous exercise"
   ]
  },
  {
   "cell_type": "code",
   "execution_count": 25,
   "metadata": {
    "collapsed": false
   },
   "outputs": [
    {
     "data": {
      "text/plain": [
       "\u001b[36mres24\u001b[0m: \u001b[32mNewList\u001b[0m[\u001b[32mInt\u001b[0m] = Cons(1,Cons(2,Cons(3,Nil)))"
      ]
     },
     "metadata": {},
     "output_type": "display_data"
    }
   ],
   "source": [
    "NewList.foldRightViaFoldLeft(NewList(1,2,3), Nil:NewList[Int])(Cons(_,_))"
   ]
  },
  {
   "cell_type": "markdown",
   "metadata": {},
   "source": [
    "#### Exercise 3.14"
   ]
  },
  {
   "cell_type": "code",
   "execution_count": 26,
   "metadata": {
    "collapsed": false
   },
   "outputs": [
    {
     "data": {
      "text/plain": [
       "\u001b[36mres25\u001b[0m: \u001b[32mNewList\u001b[0m[\u001b[32mInt\u001b[0m] = Cons(2,Cons(3,Cons(4,Cons(6,Cons(5,Nil)))))"
      ]
     },
     "metadata": {},
     "output_type": "display_data"
    }
   ],
   "source": [
    "NewList.appendViaFoldRight(NewList(2,3,4), NewList(6,5))"
   ]
  },
  {
   "cell_type": "markdown",
   "metadata": {},
   "source": [
    "#### Exercise 3.15"
   ]
  },
  {
   "cell_type": "code",
   "execution_count": 27,
   "metadata": {
    "collapsed": false
   },
   "outputs": [
    {
     "data": {
      "text/plain": [
       "\u001b[36mlistOfNewLists\u001b[0m: \u001b[32mNewList\u001b[0m[\u001b[32mNewList\u001b[0m[\u001b[32mInt\u001b[0m]] = Cons(Cons(1,Cons(2,Nil)),Cons(Cons(3,Cons(4,Nil)),Cons(Cons(5,Cons(6,Nil)),Nil)))"
      ]
     },
     "metadata": {},
     "output_type": "display_data"
    }
   ],
   "source": [
    "val listOfNewLists = NewList(NewList(1,2), NewList(3,4), NewList(5,6))"
   ]
  },
  {
   "cell_type": "code",
   "execution_count": 28,
   "metadata": {
    "collapsed": false
   },
   "outputs": [
    {
     "data": {
      "text/plain": [
       "\u001b[36mres27\u001b[0m: \u001b[32mNewList\u001b[0m[\u001b[32mInt\u001b[0m] = Cons(1,Cons(2,Cons(3,Cons(4,Cons(5,Cons(6,Nil))))))"
      ]
     },
     "metadata": {},
     "output_type": "display_data"
    }
   ],
   "source": [
    "NewList.concatenate(listOfNewLists)"
   ]
  },
  {
   "cell_type": "markdown",
   "metadata": {},
   "source": [
    "#### Exercise 3.16"
   ]
  },
  {
   "cell_type": "code",
   "execution_count": 29,
   "metadata": {
    "collapsed": false
   },
   "outputs": [
    {
     "data": {
      "text/plain": [
       "\u001b[36mres28_0\u001b[0m: \u001b[32mNewList\u001b[0m[\u001b[32mInt\u001b[0m] = Cons(2,Cons(3,Cons(4,Cons(5,Cons(6,Nil)))))\n",
       "\u001b[36mres28_1\u001b[0m: \u001b[32mNewList\u001b[0m[\u001b[32mInt\u001b[0m] = Nil"
      ]
     },
     "metadata": {},
     "output_type": "display_data"
    }
   ],
   "source": [
    "NewList.addOneToList(NewList(1,2,3,4,5))\n",
    "NewList.addOneToList(NewList())"
   ]
  },
  {
   "cell_type": "markdown",
   "metadata": {},
   "source": [
    "#### Exercise 3.17"
   ]
  },
  {
   "cell_type": "code",
   "execution_count": 30,
   "metadata": {
    "collapsed": false
   },
   "outputs": [
    {
     "data": {
      "text/plain": [
       "\u001b[36mres29\u001b[0m: \u001b[32mNewList\u001b[0m[\u001b[32mString\u001b[0m] = Cons(1.0,Cons(2.0,Cons(3.0,Nil)))"
      ]
     },
     "metadata": {},
     "output_type": "display_data"
    }
   ],
   "source": [
    "NewList.convertDoublesToStrings(NewList(1.0,2.0,3.0))"
   ]
  },
  {
   "cell_type": "markdown",
   "metadata": {},
   "source": [
    "#### Exercise 3.18"
   ]
  },
  {
   "cell_type": "code",
   "execution_count": 31,
   "metadata": {
    "collapsed": false
   },
   "outputs": [
    {
     "data": {
      "text/plain": [
       "\u001b[36mres30\u001b[0m: \u001b[32mNewList\u001b[0m[\u001b[32mBoolean\u001b[0m] = Cons(false,Cons(false,Cons(false,Cons(false,Cons(false,Cons(true,Cons(true,Nil)))))))"
      ]
     },
     "metadata": {},
     "output_type": "display_data"
    }
   ],
   "source": [
    "// Using the logicalFunction defined above, demonstrate map\n",
    "NewList.map(NewList(1,2,3,4,5,6,7))(logicalFunction)"
   ]
  },
  {
   "cell_type": "markdown",
   "metadata": {},
   "source": [
    "#### Exercise 3.19"
   ]
  },
  {
   "cell_type": "code",
   "execution_count": 32,
   "metadata": {
    "collapsed": false
   },
   "outputs": [
    {
     "data": {
      "text/plain": [
       "defined \u001b[32mfunction \u001b[36misEven\u001b[0m"
      ]
     },
     "metadata": {},
     "output_type": "display_data"
    }
   ],
   "source": [
    "def isEven(a: Int): Boolean = {\n",
    "    if(a % 2 == 0) { \n",
    "        true\n",
    "    } else {\n",
    "        false\n",
    "    }\n",
    "}"
   ]
  },
  {
   "cell_type": "code",
   "execution_count": 33,
   "metadata": {
    "collapsed": false
   },
   "outputs": [
    {
     "data": {
      "text/plain": [
       "\u001b[36mres32\u001b[0m: \u001b[32mNewList\u001b[0m[\u001b[32mInt\u001b[0m] = Cons(2,Cons(4,Cons(6,Cons(8,Nil))))"
      ]
     },
     "metadata": {},
     "output_type": "display_data"
    }
   ],
   "source": [
    "NewList.filter(NewList(1,2,3,4,5,6,7,8))(isEven)"
   ]
  },
  {
   "cell_type": "markdown",
   "metadata": {},
   "source": [
    "#### Exercise 3.20"
   ]
  },
  {
   "cell_type": "code",
   "execution_count": 34,
   "metadata": {
    "collapsed": false
   },
   "outputs": [
    {
     "data": {
      "text/plain": [
       "\u001b[36mres33\u001b[0m: \u001b[32mNewList\u001b[0m[\u001b[32mInt\u001b[0m] = Cons(1,Cons(1,Cons(2,Cons(2,Cons(3,Cons(3,Nil))))))"
      ]
     },
     "metadata": {},
     "output_type": "display_data"
    }
   ],
   "source": [
    "NewList.flatMap(NewList(1,2,3))(i => NewList(i, i))"
   ]
  },
  {
   "cell_type": "markdown",
   "metadata": {},
   "source": [
    "#### Exercise 3.21"
   ]
  },
  {
   "cell_type": "code",
   "execution_count": 35,
   "metadata": {
    "collapsed": false
   },
   "outputs": [
    {
     "data": {
      "text/plain": [
       "\u001b[36mres34\u001b[0m: \u001b[32mNewList\u001b[0m[\u001b[32mInt\u001b[0m] = Cons(2,Cons(4,Cons(6,Cons(8,Nil))))"
      ]
     },
     "metadata": {},
     "output_type": "display_data"
    }
   ],
   "source": [
    "NewList.filterByFlatMap(NewList(1,2,3,4,5,6,7,8))(isEven)"
   ]
  },
  {
   "cell_type": "markdown",
   "metadata": {},
   "source": [
    "#### Exercise 3.22"
   ]
  },
  {
   "cell_type": "code",
   "execution_count": 36,
   "metadata": {
    "collapsed": false
   },
   "outputs": [
    {
     "data": {
      "text/plain": [
       "\u001b[36mres35_0\u001b[0m: \u001b[32mNewList\u001b[0m[\u001b[32mInt\u001b[0m] = Cons(2,Cons(4,Cons(6,Nil)))\n",
       "\u001b[36mres35_1\u001b[0m: \u001b[32mNewList\u001b[0m[\u001b[32mInt\u001b[0m] = Nil\n",
       "\u001b[36mres35_2\u001b[0m: \u001b[32mNewList\u001b[0m[\u001b[32mInt\u001b[0m] = Nil"
      ]
     },
     "metadata": {},
     "output_type": "display_data"
    }
   ],
   "source": [
    "NewList.addNewLists(NewList(1,2,3), NewList(1,2,3))\n",
    "NewList.addNewLists(NewList(), NewList(1,2,3))\n",
    "NewList.addNewLists(NewList(1,2,3), NewList())"
   ]
  },
  {
   "cell_type": "markdown",
   "metadata": {},
   "source": [
    "#### Exercise 3.23"
   ]
  },
  {
   "cell_type": "code",
   "execution_count": 37,
   "metadata": {
    "collapsed": false
   },
   "outputs": [
    {
     "data": {
      "text/plain": [
       "\u001b[36mres36\u001b[0m: \u001b[32mNewList\u001b[0m[\u001b[32mInt\u001b[0m] = Cons(2,Cons(4,Cons(6,Nil)))"
      ]
     },
     "metadata": {},
     "output_type": "display_data"
    }
   ],
   "source": [
    "NewList.zipWith(NewList(1,2,3), NewList(1,2,3))((a, b) => a + b)"
   ]
  },
  {
   "cell_type": "markdown",
   "metadata": {},
   "source": [
    "#### Exercise 3.24"
   ]
  },
  {
   "cell_type": "markdown",
   "metadata": {},
   "source": [
    "Implementation with some help from the answers"
   ]
  },
  {
   "cell_type": "code",
   "execution_count": 38,
   "metadata": {
    "collapsed": false
   },
   "outputs": [
    {
     "data": {
      "text/plain": [
       "\u001b[36mres37_0\u001b[0m: \u001b[32mBoolean\u001b[0m = \u001b[32mtrue\u001b[0m\n",
       "\u001b[36mres37_1\u001b[0m: \u001b[32mBoolean\u001b[0m = \u001b[32mfalse\u001b[0m"
      ]
     },
     "metadata": {},
     "output_type": "display_data"
    }
   ],
   "source": [
    "NewList.hasSubsequence(NewList(1,2,3,4,5,5,6,7), NewList(5,5))\n",
    "NewList.hasSubsequence(NewList(1,2,3,4,5,5,6,7), NewList(5,5,2))"
   ]
  },
  {
   "cell_type": "markdown",
   "metadata": {},
   "source": [
    "## Trees"
   ]
  },
  {
   "cell_type": "code",
   "execution_count": 39,
   "metadata": {
    "collapsed": false
   },
   "outputs": [
    {
     "data": {
      "text/plain": [
       "defined \u001b[32mtrait \u001b[36mTree\u001b[0m\n",
       "defined \u001b[32mclass \u001b[36mLeaf\u001b[0m\n",
       "defined \u001b[32mclass \u001b[36mBranch\u001b[0m\n",
       "defined \u001b[32mobject \u001b[36mTree\u001b[0m"
      ]
     },
     "metadata": {},
     "output_type": "display_data"
    }
   ],
   "source": [
    "sealed trait Tree[+A]\n",
    "case class Leaf[A](value: A) extends Tree[A]\n",
    "case class Branch[A](left: Tree[A], right: Tree[A]) extends Tree[A]\n",
    "\n",
    "// Defined with liberal help from the solutions but studied deeply\n",
    "\n",
    "object Tree {\n",
    "\n",
    "    // Exercise 3.25\n",
    "    def size[A](t: Tree[A]): Int = { \n",
    "        t match {\n",
    "            case Leaf(_) => 1\n",
    "            case Branch(l,r) => 1 + size(l) + size(r)\n",
    "        }\n",
    "    }\n",
    "\n",
    "    // Exercise 3.26\n",
    "    def maximum(t: Tree[Int]): Int = {\n",
    "        t match {\n",
    "            case Leaf(n) => n\n",
    "            case Branch(l,r) => maximum(l) max maximum(r)\n",
    "        }\n",
    "    }\n",
    "\n",
    "    // Exercise 3.27\n",
    "    def depth[A](t: Tree[A]): Int = {\n",
    "        t match {\n",
    "            case Leaf(_) => 0\n",
    "            case Branch(l,r) => 1 + (depth(l) max depth(r))\n",
    "        }\n",
    "    }\n",
    "\n",
    "    // Exercise 3.28\n",
    "    def map[A,B](t: Tree[A])(f: A => B): Tree[B] = {\n",
    "        t match {\n",
    "            case Leaf(a) => Leaf(f(a))\n",
    "            case Branch(l,r) => Branch(map(l)(f), map(r)(f))\n",
    "        }\n",
    "    }\n",
    "\n",
    "    // Exercise 3.29\n",
    "    def fold[A,B](t: Tree[A])(f: A => B)(g: (B,B) => B): B = {\n",
    "        t match {\n",
    "            case Leaf(a) => f(a)\n",
    "            case Branch(l,r) => g(fold(l)(f)(g), fold(r)(f)(g))\n",
    "        }\n",
    "    }\n",
    "\n",
    "    def sizeViaFold[A](t: Tree[A]): Int = {\n",
    "        fold(t)(a => 1)(1 + _ + _)\n",
    "    }\n",
    "\n",
    "    def maximumViaFold(t: Tree[Int]): Int = {\n",
    "        fold(t)(a => a)(_ max _)\n",
    "    }\n",
    "\n",
    "    def depthViaFold[A](t: Tree[A]): Int = {\n",
    "        fold(t)(a => 0)((d1,d2) => 1 + (d1 max d2))\n",
    "    }\n",
    "\n",
    "    def mapViaFold[A,B](t: Tree[A])(f: A => B): Tree[B] = {\n",
    "        fold(t)(a => Leaf(f(a)): Tree[B])(Branch(_,_))\n",
    "    }\n",
    "}"
   ]
  },
  {
   "cell_type": "markdown",
   "metadata": {},
   "source": [
    "#### Exercise 3.25"
   ]
  },
  {
   "cell_type": "code",
   "execution_count": 40,
   "metadata": {
    "collapsed": false
   },
   "outputs": [
    {
     "data": {
      "text/plain": [
       "\u001b[36mT\u001b[0m: \u001b[32mBranch\u001b[0m[\u001b[32mInt\u001b[0m] = Branch(Branch(Leaf(200),Leaf(5)),Branch(Leaf(10),Branch(Leaf(25),Leaf(2))))\n",
       "\u001b[36mres39_1\u001b[0m: \u001b[32mInt\u001b[0m = \u001b[32m9\u001b[0m"
      ]
     },
     "metadata": {},
     "output_type": "display_data"
    }
   ],
   "source": [
    "val T = Branch(Branch(Leaf(200),\n",
    "                      Leaf(5)), \n",
    "               Branch(Leaf(10), \n",
    "                      Branch(Leaf(25),\n",
    "                             Leaf(2))))\n",
    "Tree.size(T)"
   ]
  },
  {
   "cell_type": "code",
   "execution_count": 41,
   "metadata": {
    "collapsed": false
   },
   "outputs": [
    {
     "data": {
      "text/plain": [
       "\u001b[36mT2\u001b[0m: \u001b[32mBranch\u001b[0m[\u001b[32mInt\u001b[0m] = Branch(Leaf(2000),Branch(Leaf(10),Leaf(25)))\n",
       "\u001b[36mres40_1\u001b[0m: \u001b[32mInt\u001b[0m = \u001b[32m5\u001b[0m"
      ]
     },
     "metadata": {},
     "output_type": "display_data"
    }
   ],
   "source": [
    "val T2 = Branch(Leaf(2000), \n",
    "                Branch(Leaf(10), \n",
    "                       Leaf(25)))\n",
    "Tree.size(T2)"
   ]
  },
  {
   "cell_type": "markdown",
   "metadata": {},
   "source": [
    "#### Exercise 3.26"
   ]
  },
  {
   "cell_type": "code",
   "execution_count": 42,
   "metadata": {
    "collapsed": false
   },
   "outputs": [
    {
     "data": {
      "text/plain": [
       "\u001b[36mres41_0\u001b[0m: \u001b[32mInt\u001b[0m = \u001b[32m200\u001b[0m\n",
       "\u001b[36mres41_1\u001b[0m: \u001b[32mInt\u001b[0m = \u001b[32m2000\u001b[0m"
      ]
     },
     "metadata": {},
     "output_type": "display_data"
    }
   ],
   "source": [
    "Tree.maximum(T)\n",
    "Tree.maximum(T2)"
   ]
  },
  {
   "cell_type": "markdown",
   "metadata": {},
   "source": [
    "#### Exercise 3.27"
   ]
  },
  {
   "cell_type": "code",
   "execution_count": 43,
   "metadata": {
    "collapsed": false
   },
   "outputs": [
    {
     "data": {
      "text/plain": [
       "\u001b[36mres42_0\u001b[0m: \u001b[32mInt\u001b[0m = \u001b[32m3\u001b[0m\n",
       "\u001b[36mres42_1\u001b[0m: \u001b[32mInt\u001b[0m = \u001b[32m2\u001b[0m"
      ]
     },
     "metadata": {},
     "output_type": "display_data"
    }
   ],
   "source": [
    "Tree.depth(T)\n",
    "Tree.depth(T2)"
   ]
  },
  {
   "cell_type": "markdown",
   "metadata": {},
   "source": [
    "#### Exercise 3.28"
   ]
  },
  {
   "cell_type": "code",
   "execution_count": 44,
   "metadata": {
    "collapsed": false
   },
   "outputs": [
    {
     "data": {
      "text/plain": [
       "\u001b[36mres43_0\u001b[0m: \u001b[32mTree\u001b[0m[\u001b[32mBoolean\u001b[0m] = Branch(Branch(Leaf(true),Leaf(false)),Branch(Leaf(true),Branch(Leaf(true),Leaf(false))))\n",
       "\u001b[36mres43_1\u001b[0m: \u001b[32mTree\u001b[0m[\u001b[32mBoolean\u001b[0m] = Branch(Leaf(true),Branch(Leaf(true),Leaf(true)))"
      ]
     },
     "metadata": {},
     "output_type": "display_data"
    }
   ],
   "source": [
    "Tree.map(T)(logicalFunction)\n",
    "Tree.map(T2)(logicalFunction)"
   ]
  },
  {
   "cell_type": "markdown",
   "metadata": {},
   "source": [
    "#### Exercise 3.29"
   ]
  },
  {
   "cell_type": "code",
   "execution_count": 45,
   "metadata": {
    "collapsed": false
   },
   "outputs": [
    {
     "data": {
      "text/plain": [
       "\u001b[36mres44_0\u001b[0m: \u001b[32mInt\u001b[0m = \u001b[32m9\u001b[0m\n",
       "\u001b[36mres44_1\u001b[0m: \u001b[32mInt\u001b[0m = \u001b[32m5\u001b[0m"
      ]
     },
     "metadata": {},
     "output_type": "display_data"
    }
   ],
   "source": [
    "Tree.sizeViaFold(T)\n",
    "Tree.sizeViaFold(T2)"
   ]
  },
  {
   "cell_type": "code",
   "execution_count": 46,
   "metadata": {
    "collapsed": false
   },
   "outputs": [
    {
     "data": {
      "text/plain": [
       "\u001b[36mres45_0\u001b[0m: \u001b[32mInt\u001b[0m = \u001b[32m200\u001b[0m\n",
       "\u001b[36mres45_1\u001b[0m: \u001b[32mInt\u001b[0m = \u001b[32m2000\u001b[0m"
      ]
     },
     "metadata": {},
     "output_type": "display_data"
    }
   ],
   "source": [
    "Tree.maximumViaFold(T)\n",
    "Tree.maximumViaFold(T2)"
   ]
  },
  {
   "cell_type": "code",
   "execution_count": 47,
   "metadata": {
    "collapsed": false
   },
   "outputs": [
    {
     "data": {
      "text/plain": [
       "\u001b[36mres46_0\u001b[0m: \u001b[32mInt\u001b[0m = \u001b[32m3\u001b[0m\n",
       "\u001b[36mres46_1\u001b[0m: \u001b[32mInt\u001b[0m = \u001b[32m2\u001b[0m"
      ]
     },
     "metadata": {},
     "output_type": "display_data"
    }
   ],
   "source": [
    "Tree.depthViaFold(T)\n",
    "Tree.depthViaFold(T2)"
   ]
  },
  {
   "cell_type": "code",
   "execution_count": 48,
   "metadata": {
    "collapsed": false
   },
   "outputs": [
    {
     "data": {
      "text/plain": [
       "\u001b[36mres47_0\u001b[0m: \u001b[32mTree\u001b[0m[\u001b[32mBoolean\u001b[0m] = Branch(Branch(Leaf(true),Leaf(false)),Branch(Leaf(true),Branch(Leaf(true),Leaf(false))))\n",
       "\u001b[36mres47_1\u001b[0m: \u001b[32mTree\u001b[0m[\u001b[32mBoolean\u001b[0m] = Branch(Leaf(true),Branch(Leaf(true),Leaf(true)))"
      ]
     },
     "metadata": {},
     "output_type": "display_data"
    }
   ],
   "source": [
    "Tree.mapViaFold(T)(logicalFunction)\n",
    "Tree.mapViaFold(T2)(logicalFunction)"
   ]
  }
 ],
 "metadata": {
  "kernelspec": {
   "display_name": "Scala 2.11",
   "language": "scala211",
   "name": "scala211"
  },
  "language_info": {
   "codemirror_mode": "text/x-scala",
   "file_extension": ".scala",
   "mimetype": "text/x-scala",
   "name": "scala211",
   "pygments_lexer": "scala",
   "version": "2.11.8"
  }
 },
 "nbformat": 4,
 "nbformat_minor": 0
}
