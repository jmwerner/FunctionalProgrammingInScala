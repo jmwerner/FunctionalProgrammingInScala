{
 "cells": [
  {
   "cell_type": "markdown",
   "metadata": {},
   "source": [
    "# Chapter 3 Exercises"
   ]
  },
  {
   "cell_type": "markdown",
   "metadata": {},
   "source": [
    "Import of book's data structures to be used. Renamed the new list type to NewList becuse scala is weird."
   ]
  },
  {
   "cell_type": "code",
   "execution_count": 25,
   "metadata": {
    "collapsed": false,
    "scrolled": false
   },
   "outputs": [
    {
     "data": {
      "text/plain": [
       "defined \u001b[32mtrait \u001b[36mNewList\u001b[0m\n",
       "defined \u001b[32mobject \u001b[36mNil\u001b[0m\n",
       "defined \u001b[32mclass \u001b[36mCons\u001b[0m\n",
       "defined \u001b[32mobject \u001b[36mNewList\u001b[0m"
      ]
     },
     "metadata": {},
     "output_type": "display_data"
    }
   ],
   "source": [
    "sealed trait NewList[+A] // `NewList` data type, parameterized on a type, `A`\n",
    "case object Nil extends NewList[Nothing] // A `NewList` data constructor representing the empty list\n",
    "/* Another data constructor, representing nonempty lists. Note that `tail` is another `NewList[A]`,\n",
    "which may be `Nil` or another `Cons`.\n",
    "*/\n",
    "case class Cons[+A](head: A, tail: NewList[A]) extends NewList[A]\n",
    "\n",
    "object NewList { // `NewList` companion object. Contains functions for creating and working with lists.\n",
    "    def sum(ints: NewList[Int]): Int = ints match { // A function that uses pattern matching to add up a list of integers\n",
    "        case Nil => 0 // The sum of the empty list is 0.\n",
    "        case Cons(x,xs) => x + sum(xs) // The sum of a list starting with `x` is `x` plus the sum of the rest of the list.\n",
    "    }\n",
    "\n",
    "    def product(ds: NewList[Double]): Double = ds match {\n",
    "        case Nil => 1.0\n",
    "        case Cons(0.0, _) => 0.0\n",
    "        case Cons(x,xs) => x * product(xs)\n",
    "    }\n",
    "\n",
    "    def apply[A](as: A*): NewList[A] = // Variadic function syntax\n",
    "        if (as.isEmpty) Nil\n",
    "        else Cons(as.head, apply(as.tail: _*))\n",
    "\n",
    "    def append[A](a1: NewList[A], a2: NewList[A]): NewList[A] =\n",
    "        a1 match {\n",
    "            case Nil => a2\n",
    "            case Cons(h,t) => Cons(h, append(t, a2))\n",
    "        }\n",
    "\n",
    "    def foldRight[A,B](as: NewList[A], z: B)(f: (A, B) => B): B = // Utility functions\n",
    "        as match {\n",
    "            case Nil => z\n",
    "            case Cons(x, xs) => f(x, foldRight(xs, z)(f))\n",
    "        }\n",
    "\n",
    "    def sum2(ns: NewList[Int]) =\n",
    "        foldRight(ns, 0)((x,y) => x + y)\n",
    "\n",
    "    def product2(ns: NewList[Double]) =\n",
    "        foldRight(ns, 1.0)(_ * _) // `_ * _` is more concise notation for `(x,y) => x * y`; see sidebar\n",
    "\n",
    "    // Exercise 3.2\n",
    "    def tail[A](x: NewList[A]): NewList[A] = {\n",
    "        x match {\n",
    "            case Nil => sys.error(\"no tail exists in empty list\")\n",
    "            case Cons(_, t) => t\n",
    "        }\n",
    "    }\n",
    "    \n",
    "    // Exercise 3.3\n",
    "    def setHead[A](l: NewList[A], h: A): NewList[A] = {\n",
    "        l match {\n",
    "            case Nil => sys.error(\"no first element to replace\")\n",
    "            case Cons(_, t) => Cons(h, t)\n",
    "        }\n",
    "    }\n",
    "\n",
    "def drop[A](l: NewList[A], n: Int): NewList[A] = sys.error(\"todo\")\n",
    "\n",
    "def dropWhile[A](l: NewList[A], f: A => Boolean): NewList[A] = sys.error(\"todo\")\n",
    "\n",
    "def init[A](l: NewList[A]): NewList[A] = sys.error(\"todo\")\n",
    "\n",
    "def length[A](l: NewList[A]): Int = sys.error(\"todo\")\n",
    "\n",
    "def foldLeft[A,B](l: NewList[A], z: B)(f: (B, A) => B): B = sys.error(\"todo\")\n",
    "\n",
    "def map[A,B](l: NewList[A])(f: A => B): NewList[B] = sys.error(\"todo\")\n",
    "}\n"
   ]
  },
  {
   "cell_type": "markdown",
   "metadata": {},
   "source": [
    "#### Exercise 3.1"
   ]
  },
  {
   "cell_type": "code",
   "execution_count": 22,
   "metadata": {
    "collapsed": false
   },
   "outputs": [
    {
     "data": {
      "text/plain": [
       "\u001b[36mx\u001b[0m: \u001b[32mInt\u001b[0m = \u001b[32m3\u001b[0m"
      ]
     },
     "metadata": {},
     "output_type": "display_data"
    }
   ],
   "source": [
    "val x = NewList(1,2,3,4,5) match {\n",
    "    case Cons(x, Cons(2, Cons(4, _))) => x\n",
    "    case Nil => 42\n",
    "    case Cons(x, Cons(y, Cons(3, Cons(4, _)))) => x + y\n",
    "    case Cons(h, t) => h + NewList.sum(t)\n",
    "    case _ => 101\n",
    "}"
   ]
  },
  {
   "cell_type": "markdown",
   "metadata": {},
   "source": [
    "This returns 3 because it hits the third case where we have (x,y,3,4,_) and returns x + y (1 + 2) here. The other cases don't match a list of 1:5"
   ]
  },
  {
   "cell_type": "markdown",
   "metadata": {},
   "source": [
    "#### Exercise 3.2"
   ]
  },
  {
   "cell_type": "code",
   "execution_count": 24,
   "metadata": {
    "collapsed": false
   },
   "outputs": [
    {
     "data": {
      "text/plain": [
       "\u001b[36ma\u001b[0m: \u001b[32mNewList\u001b[0m[\u001b[32mInt\u001b[0m] = Cons(1,Cons(2,Cons(3,Nil)))\n",
       "\u001b[36mres23_1\u001b[0m: \u001b[32mNewList\u001b[0m[\u001b[32mInt\u001b[0m] = Cons(2,Cons(3,Nil))"
      ]
     },
     "metadata": {},
     "output_type": "display_data"
    }
   ],
   "source": [
    "val a = NewList(1,2,3)\n",
    "NewList.tail(a)"
   ]
  },
  {
   "cell_type": "code",
   "execution_count": 20,
   "metadata": {
    "collapsed": false
   },
   "outputs": [
    {
     "data": {
      "text/plain": [
       "\u001b[36ma\u001b[0m: \u001b[32mNewList\u001b[0m[\u001b[32mInt\u001b[0m] = Cons(1,Nil)\n",
       "\u001b[36mres19_1\u001b[0m: \u001b[32mNewList\u001b[0m[\u001b[32mInt\u001b[0m] = Nil"
      ]
     },
     "metadata": {},
     "output_type": "display_data"
    }
   ],
   "source": [
    "val a = NewList(1)\n",
    "NewList.tail(a)"
   ]
  },
  {
   "cell_type": "code",
   "execution_count": 21,
   "metadata": {
    "collapsed": false
   },
   "outputs": [
    {
     "ename": "",
     "evalue": "",
     "output_type": "error",
     "traceback": [
      "java.lang.RuntimeException: no tail exists in empty list (no tail exists in empty list)",
      "  scala.sys.package$.error(package.scala:27)",
      "  cmd13$$user$NewList$.tail(Main.scala:65)",
      "  cmd20$$user$$anonfun$2.apply(Main.scala:30)",
      "  cmd20$$user$$anonfun$2.apply(Main.scala:29)"
     ]
    }
   ],
   "source": [
    "val a = NewList()\n",
    "NewList.tail(a)"
   ]
  },
  {
   "cell_type": "markdown",
   "metadata": {},
   "source": [
    "#### Exercise 3.3"
   ]
  },
  {
   "cell_type": "code",
   "execution_count": 26,
   "metadata": {
    "collapsed": false
   },
   "outputs": [
    {
     "data": {
      "text/plain": [
       "\u001b[36ma\u001b[0m: \u001b[32mNewList\u001b[0m[\u001b[32mInt\u001b[0m] = Cons(1,Cons(2,Cons(3,Nil)))\n",
       "\u001b[36mres25_1\u001b[0m: \u001b[32mNewList\u001b[0m[\u001b[32mInt\u001b[0m] = Cons(10,Cons(2,Cons(3,Nil)))"
      ]
     },
     "metadata": {},
     "output_type": "display_data"
    }
   ],
   "source": [
    "val a = NewList(1,2,3)\n",
    "NewList.setHead(a, 10)"
   ]
  },
  {
   "cell_type": "code",
   "execution_count": 27,
   "metadata": {
    "collapsed": false
   },
   "outputs": [
    {
     "data": {
      "text/plain": [
       "\u001b[36ma\u001b[0m: \u001b[32mNewList\u001b[0m[\u001b[32mInt\u001b[0m] = Cons(1,Nil)\n",
       "\u001b[36mres26_1\u001b[0m: \u001b[32mNewList\u001b[0m[\u001b[32mInt\u001b[0m] = Cons(10,Nil)"
      ]
     },
     "metadata": {},
     "output_type": "display_data"
    }
   ],
   "source": [
    "val a = NewList(1)\n",
    "NewList.setHead(a, 10)"
   ]
  },
  {
   "cell_type": "code",
   "execution_count": 28,
   "metadata": {
    "collapsed": false
   },
   "outputs": [
    {
     "ename": "",
     "evalue": "",
     "output_type": "error",
     "traceback": [
      "java.lang.RuntimeException: no first element to replace (no first element to replace)",
      "  scala.sys.package$.error(package.scala:27)",
      "  cmd24$$user$NewList$.setHead(Main.scala:75)",
      "  cmd27$$user$$anonfun$2.apply(Main.scala:30)",
      "  cmd27$$user$$anonfun$2.apply(Main.scala:29)"
     ]
    }
   ],
   "source": [
    "val a = NewList()\n",
    "NewList.setHead(a, 10)"
   ]
  },
  {
   "cell_type": "markdown",
   "metadata": {},
   "source": [
    "#### Exercise 3.4"
   ]
  },
  {
   "cell_type": "markdown",
   "metadata": {},
   "source": [
    "#### Exercise 3.5"
   ]
  },
  {
   "cell_type": "markdown",
   "metadata": {},
   "source": [
    "#### Exercise 3.6"
   ]
  },
  {
   "cell_type": "markdown",
   "metadata": {},
   "source": [
    "#### Exercise 3.7"
   ]
  },
  {
   "cell_type": "markdown",
   "metadata": {},
   "source": [
    "#### Exercise 3.8"
   ]
  },
  {
   "cell_type": "markdown",
   "metadata": {},
   "source": [
    "#### Exercise 3.9"
   ]
  },
  {
   "cell_type": "markdown",
   "metadata": {},
   "source": [
    "#### Exercise 3.10"
   ]
  },
  {
   "cell_type": "markdown",
   "metadata": {},
   "source": [
    "#### Exercise 3.11"
   ]
  },
  {
   "cell_type": "markdown",
   "metadata": {},
   "source": [
    "#### Exercise 3.12"
   ]
  },
  {
   "cell_type": "code",
   "execution_count": null,
   "metadata": {
    "collapsed": true
   },
   "outputs": [],
   "source": []
  }
 ],
 "metadata": {
  "kernelspec": {
   "display_name": "Scala 2.11",
   "language": "scala211",
   "name": "scala211"
  },
  "language_info": {
   "codemirror_mode": "text/x-scala",
   "file_extension": ".scala",
   "mimetype": "text/x-scala",
   "name": "scala211",
   "pygments_lexer": "scala",
   "version": "2.11.8"
  }
 },
 "nbformat": 4,
 "nbformat_minor": 0
}
