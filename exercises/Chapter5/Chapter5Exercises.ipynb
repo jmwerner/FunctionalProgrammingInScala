{
 "cells": [
  {
   "cell_type": "markdown",
   "metadata": {},
   "source": [
    "# Chapter 5 Exercises"
   ]
  },
  {
   "cell_type": "code",
   "execution_count": null,
   "metadata": {
    "collapsed": true
   },
   "outputs": [],
   "source": [
    "package fpinscala.laziness\n",
    "\n",
    "import Stream._\n",
    "trait Stream[+A] {\n",
    "\n",
    "def foldRight[B](z: => B)(f: (A, => B) => B): B = // The arrow `=>` in front of the argument type `B` means that the function `f` takes its second argument by name and may choose not to evaluate it.\n",
    "this match {\n",
    "case Cons(h,t) => f(h(), t().foldRight(z)(f)) // If `f` doesn't evaluate its second argument, the recursion never occurs.\n",
    "case _ => z\n",
    "}\n",
    "\n",
    "def exists(p: A => Boolean): Boolean = \n",
    "foldRight(false)((a, b) => p(a) || b) // Here `b` is the unevaluated recursive step that folds the tail of the stream. If `p(a)` returns `true`, `b` will never be evaluated and the computation terminates early.\n",
    "\n",
    "@annotation.tailrec\n",
    "final def find(f: A => Boolean): Option[A] = this match {\n",
    "    case Empty => None\n",
    "    case Cons(h, t) => if (f(h())) Some(h()) else t().find(f)\n",
    "}\n",
    "def take(n: Int): Stream[A] = sys.error(\"todo\")\n",
    "\n",
    "def drop(n: Int): Stream[A] = sys.error(\"todo\")\n",
    "\n",
    "def takeWhile(p: A => Boolean): Stream[A] = sys.error(\"todo\")\n",
    "\n",
    "def forAll(p: A => Boolean): Boolean = sys.error(\"todo\")\n",
    "\n",
    "def headOption: Option[A] = sys.error(\"todo\")\n",
    "\n",
    "// 5.7 map, filter, append, flatmap using foldRight. Part of the exercise is\n",
    "// writing your own function signatures.\n",
    "\n",
    "def startsWith[B](s: Stream[B]): Boolean = sys.error(\"todo\")\n",
    "}\n",
    "case object Empty extends Stream[Nothing]\n",
    "case class Cons[+A](h: () => A, t: () => Stream[A]) extends Stream[A]\n",
    "\n",
    "object Stream {\n",
    "    def cons[A](hd: => A, tl: => Stream[A]): Stream[A] = {\n",
    "        lazy val head = hd\n",
    "        lazy val tail = tl\n",
    "        Cons(() => head, () => tail)\n",
    "    }\n",
    "\n",
    "    def empty[A]: Stream[A] = Empty\n",
    "\n",
    "    def apply[A](as: A*): Stream[A] =\n",
    "    if (as.isEmpty) empty \n",
    "    else cons(as.head, apply(as.tail: _*))\n",
    "\n",
    "    val ones: Stream[Int] = Stream.cons(1, ones)\n",
    "    def from(n: Int): Stream[Int] = sys.error(\"todo\")\n",
    "\n",
    "    def unfold[A, S](z: S)(f: S => Option[(A, S)]): Stream[A] = sys.error(\"todo\")\n",
    "}"
   ]
  },
  {
   "cell_type": "code",
   "execution_count": null,
   "metadata": {
    "collapsed": true
   },
   "outputs": [],
   "source": []
  }
 ],
 "metadata": {
  "kernelspec": {
   "display_name": "Scala 2.11",
   "language": "scala211",
   "name": "scala211"
  },
  "language_info": {
   "codemirror_mode": "text/x-scala",
   "file_extension": ".scala",
   "mimetype": "text/x-scala",
   "name": "scala211",
   "pygments_lexer": "scala",
   "version": "2.11.6"
  }
 },
 "nbformat": 4,
 "nbformat_minor": 0
}
