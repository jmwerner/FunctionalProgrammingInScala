{
 "cells": [
  {
   "cell_type": "markdown",
   "metadata": {},
   "source": [
    "Import of book's data structures and object creation for exercises. "
   ]
  },
  {
   "cell_type": "markdown",
   "metadata": {},
   "source": [
    "Hide std library `Option` and `Either`, since we are writing our own in this chapter"
   ]
  },
  {
   "cell_type": "code",
   "execution_count": 1,
   "metadata": {
    "collapsed": false
   },
   "outputs": [
    {
     "data": {
      "text/plain": [
       "\u001b[32mimport \u001b[36mscala.{Option => _, Either => _, _}\u001b[0m\n",
       "defined \u001b[32mtrait \u001b[36mEither\u001b[0m\n",
       "defined \u001b[32mclass \u001b[36mLeft\u001b[0m\n",
       "defined \u001b[32mclass \u001b[36mRight\u001b[0m\n",
       "defined \u001b[32mobject \u001b[36mEither\u001b[0m"
      ]
     },
     "metadata": {},
     "output_type": "display_data"
    }
   ],
   "source": [
    "import scala.{Option => _, Either => _, _}\n",
    "\n",
    "sealed trait Either[+E,+A] {\n",
    "    def map[B](f: A => B): Either[E, B] = {\n",
    "        this match {\n",
    "            case Right(a) => Right(f(a))\n",
    "            case Left(e) => Left(e)\n",
    "        }\n",
    "    }\n",
    "\n",
    "    def flatMap[EE >: E, B](f: A => Either[EE, B]): Either[EE, B] = {\n",
    "        this match {\n",
    "            case Left(e) => Left(e)\n",
    "            case Right(a) => f(a)\n",
    "        }\n",
    "    }\n",
    "\n",
    "    def orElse[EE >: E, B >: A](b: => Either[EE, B]): Either[EE, B] = {\n",
    "        this match {\n",
    "            case Left(_) => b\n",
    "            case Right(a) => Right(a)\n",
    "        }\n",
    "    }\n",
    "\n",
    "    def map2[EE >: E, B, C](b: Either[EE, B])(f: (A, B) => C): Either[EE, C] = {\n",
    "        for { a <- this; b1 <- b } yield f(a, b1)\n",
    "    }\n",
    "}\n",
    "\n",
    "case class Left[+E](get: E) extends Either[E,Nothing]\n",
    "case class Right[+A](get: A) extends Either[Nothing,A]\n",
    "\n",
    "object Either {\n",
    "    def traverse[E,A,B](es: List[A])(f: A => Either[E, B]): Either[E, List[B]] = {\n",
    "        es match {\n",
    "            case Nil => Right(Nil)\n",
    "            case h::t => (f(h) map2 traverse(t)(f))(_::_)\n",
    "        }\n",
    "    }\n",
    "\n",
    "    def sequence[E,A](es: List[Either[E,A]]): Either[E,List[A]] = {\n",
    "        traverse(es)(x => x)\n",
    "    }\n",
    "\n",
    "    def mean(xs: IndexedSeq[Double]): Either[String, Double] = {\n",
    "        if (xs.isEmpty) {\n",
    "            Left(\"mean of empty list!\")\n",
    "        } else {\n",
    "            Right(xs.sum / xs.length)\n",
    "        } \n",
    "    }\n",
    "    \n",
    "    def safeDiv(x: Int, y: Int): Either[Exception, Int] = {\n",
    "        try Right(x / y)\n",
    "        catch { case e: Exception => Left(e) }\n",
    "    }\n",
    "\n",
    "    def Try[A](a: => A): Either[Exception, A] = {\n",
    "        try Right(a)\n",
    "        catch { case e: Exception => Left(e) }\n",
    "    }\n",
    "    \n",
    "    def traverse_1[E,A,B](es: List[A])(f: A => Either[E, B]): Either[E, List[B]] = { \n",
    "        es.foldRight[Either[E,List[B]]](Right(Nil))((a, b) => f(a).map2(b)(_ :: _))\n",
    "    }\n",
    "}"
   ]
  },
  {
   "cell_type": "markdown",
   "metadata": {},
   "source": [
    "# Exercises"
   ]
  },
  {
   "cell_type": "markdown",
   "metadata": {},
   "source": [
    "#### Exercise 4.1"
   ]
  },
  {
   "cell_type": "code",
   "execution_count": null,
   "metadata": {
    "collapsed": true
   },
   "outputs": [],
   "source": []
  },
  {
   "cell_type": "markdown",
   "metadata": {},
   "source": [
    "#### Exercise 4.2"
   ]
  },
  {
   "cell_type": "code",
   "execution_count": null,
   "metadata": {
    "collapsed": true
   },
   "outputs": [],
   "source": []
  },
  {
   "cell_type": "markdown",
   "metadata": {},
   "source": [
    "#### Exercise 4.3"
   ]
  },
  {
   "cell_type": "code",
   "execution_count": null,
   "metadata": {
    "collapsed": true
   },
   "outputs": [],
   "source": []
  },
  {
   "cell_type": "markdown",
   "metadata": {},
   "source": [
    "#### Exercise 4.4"
   ]
  },
  {
   "cell_type": "code",
   "execution_count": null,
   "metadata": {
    "collapsed": true
   },
   "outputs": [],
   "source": []
  },
  {
   "cell_type": "markdown",
   "metadata": {},
   "source": [
    "#### Exercise 4.5"
   ]
  },
  {
   "cell_type": "code",
   "execution_count": null,
   "metadata": {
    "collapsed": true
   },
   "outputs": [],
   "source": []
  },
  {
   "cell_type": "markdown",
   "metadata": {},
   "source": [
    "#### Exercise 4.6"
   ]
  },
  {
   "cell_type": "code",
   "execution_count": null,
   "metadata": {
    "collapsed": true
   },
   "outputs": [],
   "source": []
  },
  {
   "cell_type": "markdown",
   "metadata": {},
   "source": [
    "#### Exercise 4.7"
   ]
  },
  {
   "cell_type": "code",
   "execution_count": null,
   "metadata": {
    "collapsed": true
   },
   "outputs": [],
   "source": []
  },
  {
   "cell_type": "markdown",
   "metadata": {},
   "source": [
    "#### Exercise 4.8"
   ]
  },
  {
   "cell_type": "code",
   "execution_count": null,
   "metadata": {
    "collapsed": true
   },
   "outputs": [],
   "source": []
  },
  {
   "cell_type": "code",
   "execution_count": null,
   "metadata": {
    "collapsed": false
   },
   "outputs": [],
   "source": [
    "import scala.{Option => _, Some => _, Either => _, _} // hide std library `Option`, `Some` and `Either`, since we are writing our own in this chapter\n",
    "\n",
    "sealed trait Option[+A] {\n",
    "    def map[B](f: A => B): Option[B] = sys.error(\"todo\")\n",
    "\n",
    "    def getOrElse[B>:A](default: => B): B = sys.error(\"todo\")\n",
    "\n",
    "    def flatMap[B](f: A => Option[B]): Option[B] = sys.error(\"todo\")\n",
    "\n",
    "    def orElse[B>:A](ob: => Option[B]): Option[B] = sys.error(\"todo\")\n",
    "\n",
    "    def filter(f: A => Boolean): Option[A] = sys.error(\"todo\")\n",
    "}\n",
    "case class Some[+A](get: A) extends Option[A]\n",
    "case object None extends Option[Nothing]\n",
    "\n",
    "object Option {\n",
    "    def failingFn(i: Int): Int = {\n",
    "        val y: Int = throw new Exception(\"fail!\") // `val y: Int = ...` declares `y` as having type `Int`, and sets it equal to the right hand side of the `=`.\n",
    "        try {\n",
    "          val x = 42 + 5\n",
    "          x + y\n",
    "    }\n",
    "        catch { case e: Exception => 43 } // A `catch` block is just a pattern matching block like the ones we've seen. `case e: Exception` is a pattern that matches any `Exception`, and it binds this value to the identifier `e`. The match returns the value 43.\n",
    "    }\n",
    "\n",
    "    def failingFn2(i: Int): Int = {\n",
    "        try {\n",
    "          val x = 42 + 5\n",
    "          x + ((throw new Exception(\"fail!\")): Int) // A thrown Exception can be given any type; here we're annotating it with the type `Int`\n",
    "        }\n",
    "        catch { case e: Exception => 43 }\n",
    "    }\n",
    "\n",
    "    def mean(xs: Seq[Double]): Option[Double] =\n",
    "        if (xs.isEmpty) None\n",
    "        else Some(xs.sum / xs.length)\n",
    "        \n",
    "    def variance(xs: Seq[Double]): Option[Double] = sys.error(\"todo\")\n",
    "\n",
    "    def map2[A,B,C](a: Option[A], b: Option[B])(f: (A, B) => C): Option[C] = sys.error(\"todo\")\n",
    "\n",
    "    def sequence[A](a: List[Option[A]]): Option[List[A]] = sys.error(\"todo\")\n",
    "\n",
    "    def traverse[A, B](a: List[A])(f: A => Option[B]): Option[List[B]] = sys.error(\"todo\")\n",
    "}"
   ]
  }
 ],
 "metadata": {
  "kernelspec": {
   "display_name": "Scala 2.11",
   "language": "scala211",
   "name": "scala211"
  },
  "language_info": {
   "codemirror_mode": "text/x-scala",
   "file_extension": ".scala",
   "mimetype": "text/x-scala",
   "name": "scala211",
   "pygments_lexer": "scala",
   "version": "2.11.8"
  }
 },
 "nbformat": 4,
 "nbformat_minor": 0
}
